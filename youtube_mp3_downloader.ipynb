{
  "nbformat": 4,
  "nbformat_minor": 0,
  "metadata": {
    "colab": {
      "provenance": []
    },
    "kernelspec": {
      "name": "python3",
      "display_name": "Python 3"
    },
    "language_info": {
      "name": "python"
    }
  },
  "cells": [
    {
      "cell_type": "code",
      "source": [
        "!pip install yt-dlp\n",
        "!pip install ffmpeg-python"
      ],
      "metadata": {
        "colab": {
          "base_uri": "https://localhost:8080/"
        },
        "id": "Yb5QBGkiOJnI",
        "outputId": "4e0c4c08-5c93-4ef8-c993-9e4162c45aaa"
      },
      "execution_count": 5,
      "outputs": [
        {
          "output_type": "stream",
          "name": "stdout",
          "text": [
            "Collecting yt-dlp\n",
            "  Downloading yt_dlp-2025.2.19-py3-none-any.whl.metadata (171 kB)\n",
            "\u001b[?25l     \u001b[90m━━━━━━━━━━━━━━━━━━━━━━━━━━━━━━━━━━━━━━━━\u001b[0m \u001b[32m0.0/171.9 kB\u001b[0m \u001b[31m?\u001b[0m eta \u001b[36m-:--:--\u001b[0m\r\u001b[2K     \u001b[90m━━━━━━━━━━━━━━━━━━━━━━━━━━━━━━━━━━━━━━━━\u001b[0m \u001b[32m171.9/171.9 kB\u001b[0m \u001b[31m6.2 MB/s\u001b[0m eta \u001b[36m0:00:00\u001b[0m\n",
            "\u001b[?25hDownloading yt_dlp-2025.2.19-py3-none-any.whl (3.2 MB)\n",
            "\u001b[2K   \u001b[90m━━━━━━━━━━━━━━━━━━━━━━━━━━━━━━━━━━━━━━━━\u001b[0m \u001b[32m3.2/3.2 MB\u001b[0m \u001b[31m62.1 MB/s\u001b[0m eta \u001b[36m0:00:00\u001b[0m\n",
            "\u001b[?25hInstalling collected packages: yt-dlp\n",
            "Successfully installed yt-dlp-2025.2.19\n",
            "Collecting ffmpeg-python\n",
            "  Downloading ffmpeg_python-0.2.0-py3-none-any.whl.metadata (1.7 kB)\n",
            "Requirement already satisfied: future in /usr/local/lib/python3.11/dist-packages (from ffmpeg-python) (1.0.0)\n",
            "Downloading ffmpeg_python-0.2.0-py3-none-any.whl (25 kB)\n",
            "Installing collected packages: ffmpeg-python\n",
            "Successfully installed ffmpeg-python-0.2.0\n"
          ]
        }
      ]
    },
    {
      "cell_type": "code",
      "source": [
        "from yt_dlp import YoutubeDL\n",
        "import os\n",
        "\n",
        "def download_youtube_mp3(url, output_path=\".\"):\n",
        "    \"\"\"\n",
        "    Function to download YouTube video as MP3 using yt-dlp\n",
        "\n",
        "    Parameters:\n",
        "        url (str): YouTube video URL\n",
        "        output_path (str): Output directory path (default: current directory)\n",
        "\n",
        "    Returns:\n",
        "        str: Path to the saved MP3 file\n",
        "    \"\"\"\n",
        "    try:\n",
        "        # Create output directory if it doesn't exist\n",
        "        os.makedirs(output_path, exist_ok=True)\n",
        "\n",
        "        # Configure yt-dlp options\n",
        "        ydl_opts = {\n",
        "            'format': 'bestaudio/best',\n",
        "            'postprocessors': [{\n",
        "                'key': 'FFmpegExtractAudio',\n",
        "                'preferredcodec': 'mp3',\n",
        "                'preferredquality': '192',\n",
        "            }],\n",
        "            'outtmpl': os.path.join(output_path, '%(title)s.%(ext)s'),\n",
        "            'verbose': True\n",
        "        }\n",
        "\n",
        "        # Download and convert to MP3\n",
        "        with YoutubeDL(ydl_opts) as ydl:\n",
        "            print(f\"Starting download from: {url}\")\n",
        "            info = ydl.extract_info(url, download=True)\n",
        "            output_file = os.path.join(output_path, f\"{info['title']}.mp3\")\n",
        "            print(f\"Download complete: {output_file}\")\n",
        "            return output_file\n",
        "\n",
        "    except Exception as e:\n",
        "        print(f\"Error occurred: {str(e)}\")\n",
        "        return None\n",
        "\n",
        "# Usage example\n",
        "if __name__ == \"__main__\":\n",
        "    # YouTube video URL\n",
        "    video_url = \"https://www.youtube.com/watch?v=Zbo7UY8dxh8\"\n",
        "\n",
        "    # Execute download\n",
        "    output_file = download_youtube_mp3(video_url, \"downloads\")\n",
        "\n",
        "    if output_file:\n",
        "        print(f\"File successfully saved to: {output_file}\")\n",
        "    else:\n",
        "        print(\"Download failed\")"
      ],
      "metadata": {
        "colab": {
          "base_uri": "https://localhost:8080/"
        },
        "id": "aIs5403WONEl",
        "outputId": "f49d16cd-7a45-4ec8-eab0-131dbc5bde80"
      },
      "execution_count": 6,
      "outputs": [
        {
          "output_type": "stream",
          "name": "stderr",
          "text": [
            "[debug] Encodings: locale UTF-8, fs utf-8, pref UTF-8, out UTF-8 (No ANSI), error UTF-8 (No ANSI), screen UTF-8 (No ANSI)\n",
            "[debug] yt-dlp version stable@2025.02.19 from yt-dlp/yt-dlp [4985a4041] (pip) API\n",
            "[debug] params: {'format': 'bestaudio/best', 'postprocessors': [{'key': 'FFmpegExtractAudio', 'preferredcodec': 'mp3', 'preferredquality': '192'}], 'outtmpl': 'downloads/%(title)s.%(ext)s', 'verbose': True, 'compat_opts': set(), 'http_headers': {'User-Agent': 'Mozilla/5.0 (Windows NT 10.0; Win64; x64) AppleWebKit/537.36 (KHTML, like Gecko) Chrome/91.0.4472.77 Safari/537.36', 'Accept': 'text/html,application/xhtml+xml,application/xml;q=0.9,*/*;q=0.8', 'Accept-Language': 'en-us,en;q=0.5', 'Sec-Fetch-Mode': 'navigate'}}\n",
            "[debug] Python 3.11.11 (CPython x86_64 64bit) - Linux-6.1.85+-x86_64-with-glibc2.35 (OpenSSL 3.0.2 15 Mar 2022, glibc 2.35)\n",
            "[debug] exe versions: ffmpeg 4.4.2 (setts), ffprobe 4.4.2\n",
            "[debug] Optional libraries: certifi-2025.01.31, requests-2.32.3, secretstorage-3.3.1, sqlite3-3.37.2, urllib3-2.3.0, websockets-14.2\n",
            "[debug] Proxy map: {'colab_language_server': '/usr/colab/bin/language_service'}\n",
            "[debug] Request Handlers: urllib, requests, websockets\n",
            "[debug] Loaded 1841 extractors\n"
          ]
        },
        {
          "output_type": "stream",
          "name": "stdout",
          "text": [
            "Starting download from: https://www.youtube.com/watch?v=Zbo7UY8dxh8\n",
            "[youtube] Extracting URL: https://www.youtube.com/watch?v=Zbo7UY8dxh8\n",
            "[youtube] Zbo7UY8dxh8: Downloading webpage\n",
            "[youtube] Zbo7UY8dxh8: Downloading tv client config\n",
            "[youtube] Zbo7UY8dxh8: Downloading player c8dbda2a\n",
            "[youtube] Zbo7UY8dxh8: Downloading tv player API JSON\n",
            "[youtube] Zbo7UY8dxh8: Downloading ios player API JSON\n"
          ]
        },
        {
          "output_type": "stream",
          "name": "stderr",
          "text": [
            "[debug] [youtube] Extracting signature function js_c8dbda2a_105\n",
            "[debug] Saving youtube-sigfuncs.js_c8dbda2a_105 to cache\n",
            "[debug] Saving youtube-nsig.c8dbda2a to cache\n",
            "[debug] [youtube] Decrypted nsig rCtumd4uoFeHW4Y => yjRqeAgwpaqT3w\n",
            "[debug] [youtube] Extracting signature function js_c8dbda2a_101\n",
            "[debug] Saving youtube-sigfuncs.js_c8dbda2a_101 to cache\n",
            "[debug] Loading youtube-nsig.c8dbda2a from cache\n",
            "[debug] [youtube] Decrypted nsig -UNA7wWGEsqAqYe => aOVqSZJwVcUFeA\n",
            "[debug] [youtube] Zbo7UY8dxh8: ios client https formats require a GVS PO Token which was not provided. They will be skipped as they may yield HTTP Error 403. You can manually pass a GVS PO Token for this client with --extractor-args \"youtube:po_token=ios.gvs+XXX\". For more information, refer to  https://github.com/yt-dlp/yt-dlp/wiki/PO-Token-Guide . To enable these broken formats anyway, pass --extractor-args \"youtube:formats=missing_pot\"\n"
          ]
        },
        {
          "output_type": "stream",
          "name": "stdout",
          "text": [
            "[youtube] Zbo7UY8dxh8: Downloading m3u8 information\n"
          ]
        },
        {
          "output_type": "stream",
          "name": "stderr",
          "text": [
            "[debug] Sort order given by extractor: quality, res, fps, hdr:12, source, vcodec, channels, acodec, lang, proto\n",
            "[debug] Formats sorted by: hasvid, ie_pref, quality, res, fps, hdr:12(7), source, vcodec, channels, acodec, lang, proto, size, br, asr, vext, aext, hasaud, id\n"
          ]
        },
        {
          "output_type": "stream",
          "name": "stdout",
          "text": [
            "[info] Zbo7UY8dxh8: Downloading 1 format(s): 251\n"
          ]
        },
        {
          "output_type": "stream",
          "name": "stderr",
          "text": [
            "[debug] Invoking http downloader on \"https://rr2---sn-qxo7rn7k.googlevideo.com/videoplayback?expire=1740258849&ei=wem5Z4LKM9DzsfIPwKXtyAQ&ip=34.169.28.51&id=o-AIffvU8pmG2qW45DdKLzrSCqwQNvs_FiMxkGWKWjOjWQ&itag=251&source=youtube&requiressl=yes&xpc=EgVo2aDSNQ%3D%3D&met=1740237249%2C&mh=pR&mm=31%2C26&mn=sn-qxo7rn7k%2Csn-a5mlrnll&ms=au%2Conr&mv=m&mvi=2&pl=17&rms=au%2Cau&initcwndbps=2345000&bui=AUWDL3xfL8VJRzQljpgSj7RvDFMx6S9d-IejN8AW41QsryN9eTk2f9hge2661bcbsDpNKTeuiLHUTJo0&spc=RjZbSbQHSINkh3rgmYmAH8NPZhhhLieZiN8W3ogkoivnBiMLdWo0XGGuK_Th3I-kGyObEw&vprv=1&svpuc=1&mime=audio%2Fwebm&ns=5sr1VIyOkFvgzCFoWHOeDLcQ&rqh=1&gir=yes&clen=4406764&dur=251.401&lmt=1737014194488422&mt=1740236716&fvip=1&keepalive=yes&lmw=1&fexp=51326932&c=TVHTML5&sefc=1&txp=4532534&n=aOVqSZJwVcUFeA&sparams=expire%2Cei%2Cip%2Cid%2Citag%2Csource%2Crequiressl%2Cxpc%2Cbui%2Cspc%2Cvprv%2Csvpuc%2Cmime%2Cns%2Crqh%2Cgir%2Cclen%2Cdur%2Clmt&lsparams=met%2Cmh%2Cmm%2Cmn%2Cms%2Cmv%2Cmvi%2Cpl%2Crms%2Cinitcwndbps&lsig=AGluJ3MwRgIhALixRZghIMoiBJXdZdaZUeeQaBNVQnDwapWWmgy2VcbhAiEAk4RJvL4JJ8PAdJZNh9Rhxd8yjOdIzTVPHs74E-YX90k%3D&sig=AJfQdSswRAIgIXbMIa9bTplTT7hTtkO-GdIXG01n8JFjzfhUtMOjf9sCIEqjbf5ew2HYTo02ElFmLzff2SMEwEQKEHbFygZtHaiP\"\n"
          ]
        },
        {
          "output_type": "stream",
          "name": "stdout",
          "text": [
            "[download] Destination: downloads/송소희(Song Sohee) - Not a Dream (미발매 자작곡) [Live Clip].webm\n",
            "[download] 100% of    4.20MiB in 00:00:00 at 13.32MiB/s  \n"
          ]
        },
        {
          "output_type": "stream",
          "name": "stderr",
          "text": [
            "[debug] ffmpeg command line: ffprobe -show_streams 'file:downloads/송소희(Song Sohee) - Not a Dream (미발매 자작곡) [Live Clip].webm'\n"
          ]
        },
        {
          "output_type": "stream",
          "name": "stdout",
          "text": [
            "[ExtractAudio] Destination: downloads/송소희(Song Sohee) - Not a Dream (미발매 자작곡) [Live Clip].mp3\n"
          ]
        },
        {
          "output_type": "stream",
          "name": "stderr",
          "text": [
            "[debug] ffmpeg command line: ffmpeg -y -loglevel repeat+info -i 'file:downloads/송소희(Song Sohee) - Not a Dream (미발매 자작곡) [Live Clip].webm' -vn -acodec libmp3lame -b:a 192.0k -movflags +faststart 'file:downloads/송소희(Song Sohee) - Not a Dream (미발매 자작곡) [Live Clip].mp3'\n"
          ]
        },
        {
          "output_type": "stream",
          "name": "stdout",
          "text": [
            "Deleting original file downloads/송소희(Song Sohee) - Not a Dream (미발매 자작곡) [Live Clip].webm (pass -k to keep)\n",
            "Download complete: downloads/송소희(Song Sohee) - Not a Dream (미발매 자작곡) [Live Clip].mp3\n",
            "File successfully saved to: downloads/송소희(Song Sohee) - Not a Dream (미발매 자작곡) [Live Clip].mp3\n"
          ]
        }
      ]
    }
  ]
}